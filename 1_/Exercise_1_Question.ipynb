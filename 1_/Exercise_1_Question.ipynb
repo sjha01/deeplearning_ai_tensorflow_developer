{
 "cells": [
  {
   "cell_type": "markdown",
   "metadata": {
    "colab_type": "text",
    "id": "mw2VBrBcgvGa"
   },
   "source": [
    "In this exercise you'll try to build a neural network that predicts the price of a house according to a simple formula.\n",
    "\n",
    "So, imagine if house pricing was as easy as a house costs 50k + 50k per bedroom, so that a 1 bedroom house costs 100k, a 2 bedroom house costs 150k etc.\n",
    "\n",
    "How would you create a neural network that learns this relationship so that it would predict a 7 bedroom house as costing close to 400k etc.\n",
    "\n",
    "Hint: Your network might work better if you scale the house price down. You don't have to give the answer 400...it might be better to create something that predicts the number 4, and then your answer is in the 'hundreds of thousands' etc."
   ]
  },
  {
   "cell_type": "code",
   "execution_count": 2,
   "metadata": {},
   "outputs": [],
   "source": [
    "import tensorflow as tf\n",
    "import numpy as np\n",
    "from tensorflow import keras"
   ]
  },
  {
   "cell_type": "code",
   "execution_count": 8,
   "metadata": {},
   "outputs": [
    {
     "name": "stdout",
     "output_type": "stream",
     "text": [
      "[1. 2. 3. 4. 5.]\n",
      "[1. 2. 3. 4. 5.]\n"
     ]
    }
   ],
   "source": [
    "print(np.linspace(1, 5, 5))\n",
    "print(np.arange(1.0, 5.0+1.0))"
   ]
  },
  {
   "cell_type": "code",
   "execution_count": 12,
   "metadata": {},
   "outputs": [
    {
     "data": {
      "text/plain": [
       "array([1. , 1.5, 2. , 2.5, 3. , 3.5, 4. , 4.5, 5. , 5.5])"
      ]
     },
     "execution_count": 12,
     "metadata": {},
     "output_type": "execute_result"
    }
   ],
   "source": [
    "np.arange(1, 5.5 + 0.5, 0.5)"
   ]
  },
  {
   "cell_type": "code",
   "execution_count": 13,
   "metadata": {
    "colab": {},
    "colab_type": "code",
    "id": "PUNO2E6SeURH"
   },
   "outputs": [],
   "source": [
    "# GRADED FUNCTION: house_model\n",
    "def house_model(y_new):\n",
    "    xs = np.arange(1.0, 10.0 + 1.0) # number of bedrooms\n",
    "    ys = np.arange(1, 5.5 + 0.5, 0.5)\n",
    "    model = tf.keras.Sequential([keras.layers.Dense(1, input_shape=[1])])\n",
    "    model.compile(optimizer='sgd', loss='mse')\n",
    "    model.fit(xs, ys, epochs=100)\n",
    "    return model.predict(y_new)[0]"
   ]
  },
  {
   "cell_type": "code",
   "execution_count": 14,
   "metadata": {},
   "outputs": [
    {
     "name": "stderr",
     "output_type": "stream",
     "text": [
      "WARNING: Logging before flag parsing goes to stderr.\n",
      "W1229 20:59:01.659445 140506442368832 deprecation.py:506] From /usr/local/lib/python3.6/dist-packages/tensorflow/python/ops/init_ops.py:1251: calling VarianceScaling.__init__ (from tensorflow.python.ops.init_ops) with dtype is deprecated and will be removed in a future version.\n",
      "Instructions for updating:\n",
      "Call initializer instance with the dtype argument instead of passing it to the constructor\n"
     ]
    },
    {
     "name": "stdout",
     "output_type": "stream",
     "text": [
      "Epoch 1/100\n",
      "10/10 [==============================] - 2s 219ms/sample - loss: 7.2042\n",
      "Epoch 2/100\n",
      "10/10 [==============================] - 0s 152us/sample - loss: 0.3942\n",
      "Epoch 3/100\n",
      "10/10 [==============================] - 0s 134us/sample - loss: 0.0813\n",
      "Epoch 4/100\n",
      "10/10 [==============================] - 0s 119us/sample - loss: 0.0664\n",
      "Epoch 5/100\n",
      "10/10 [==============================] - 0s 124us/sample - loss: 0.0652\n",
      "Epoch 6/100\n",
      "10/10 [==============================] - 0s 107us/sample - loss: 0.0646\n",
      "Epoch 7/100\n",
      "10/10 [==============================] - 0s 120us/sample - loss: 0.0640\n",
      "Epoch 8/100\n",
      "10/10 [==============================] - 0s 134us/sample - loss: 0.0635\n",
      "Epoch 9/100\n",
      "10/10 [==============================] - 0s 135us/sample - loss: 0.0630\n",
      "Epoch 10/100\n",
      "10/10 [==============================] - 0s 139us/sample - loss: 0.0624\n",
      "Epoch 11/100\n",
      "10/10 [==============================] - 0s 114us/sample - loss: 0.0619\n",
      "Epoch 12/100\n",
      "10/10 [==============================] - 0s 136us/sample - loss: 0.0614\n",
      "Epoch 13/100\n",
      "10/10 [==============================] - 0s 173us/sample - loss: 0.0609\n",
      "Epoch 14/100\n",
      "10/10 [==============================] - 0s 116us/sample - loss: 0.0604\n",
      "Epoch 15/100\n",
      "10/10 [==============================] - 0s 125us/sample - loss: 0.0599\n",
      "Epoch 16/100\n",
      "10/10 [==============================] - 0s 142us/sample - loss: 0.0594\n",
      "Epoch 17/100\n",
      "10/10 [==============================] - 0s 122us/sample - loss: 0.0589\n",
      "Epoch 18/100\n",
      "10/10 [==============================] - 0s 122us/sample - loss: 0.0584\n",
      "Epoch 19/100\n",
      "10/10 [==============================] - 0s 109us/sample - loss: 0.0579\n",
      "Epoch 20/100\n",
      "10/10 [==============================] - 0s 114us/sample - loss: 0.0574\n",
      "Epoch 21/100\n",
      "10/10 [==============================] - 0s 8ms/sample - loss: 0.0569\n",
      "Epoch 22/100\n",
      "10/10 [==============================] - 0s 132us/sample - loss: 0.0564\n",
      "Epoch 23/100\n",
      "10/10 [==============================] - 0s 136us/sample - loss: 0.0560\n",
      "Epoch 24/100\n",
      "10/10 [==============================] - 0s 150us/sample - loss: 0.0555\n",
      "Epoch 25/100\n",
      "10/10 [==============================] - 0s 119us/sample - loss: 0.0550\n",
      "Epoch 26/100\n",
      "10/10 [==============================] - 0s 121us/sample - loss: 0.0546\n",
      "Epoch 27/100\n",
      "10/10 [==============================] - 0s 121us/sample - loss: 0.0541\n",
      "Epoch 28/100\n",
      "10/10 [==============================] - 0s 110us/sample - loss: 0.0537\n",
      "Epoch 29/100\n",
      "10/10 [==============================] - 0s 137us/sample - loss: 0.0532\n",
      "Epoch 30/100\n",
      "10/10 [==============================] - 0s 124us/sample - loss: 0.0528\n",
      "Epoch 31/100\n",
      "10/10 [==============================] - 0s 137us/sample - loss: 0.0523\n",
      "Epoch 32/100\n",
      "10/10 [==============================] - 0s 108us/sample - loss: 0.0519\n",
      "Epoch 33/100\n",
      "10/10 [==============================] - 0s 101us/sample - loss: 0.0514\n",
      "Epoch 34/100\n",
      "10/10 [==============================] - 0s 139us/sample - loss: 0.0510\n",
      "Epoch 35/100\n",
      "10/10 [==============================] - 0s 8ms/sample - loss: 0.0506\n",
      "Epoch 36/100\n",
      "10/10 [==============================] - 0s 179us/sample - loss: 0.0502\n",
      "Epoch 37/100\n",
      "10/10 [==============================] - 0s 144us/sample - loss: 0.0497\n",
      "Epoch 38/100\n",
      "10/10 [==============================] - 0s 132us/sample - loss: 0.0493\n",
      "Epoch 39/100\n",
      "10/10 [==============================] - 0s 145us/sample - loss: 0.0489\n",
      "Epoch 40/100\n",
      "10/10 [==============================] - 0s 126us/sample - loss: 0.0485\n",
      "Epoch 41/100\n",
      "10/10 [==============================] - 0s 119us/sample - loss: 0.0481\n",
      "Epoch 42/100\n",
      "10/10 [==============================] - 0s 114us/sample - loss: 0.0477\n",
      "Epoch 43/100\n",
      "10/10 [==============================] - 0s 118us/sample - loss: 0.0473\n",
      "Epoch 44/100\n",
      "10/10 [==============================] - 0s 127us/sample - loss: 0.0469\n",
      "Epoch 45/100\n",
      "10/10 [==============================] - 0s 130us/sample - loss: 0.0465\n",
      "Epoch 46/100\n",
      "10/10 [==============================] - 0s 113us/sample - loss: 0.0461\n",
      "Epoch 47/100\n",
      "10/10 [==============================] - 0s 115us/sample - loss: 0.0457\n",
      "Epoch 48/100\n",
      "10/10 [==============================] - 0s 114us/sample - loss: 0.0453\n",
      "Epoch 49/100\n",
      "10/10 [==============================] - 0s 124us/sample - loss: 0.0450\n",
      "Epoch 50/100\n",
      "10/10 [==============================] - 0s 122us/sample - loss: 0.0446\n",
      "Epoch 51/100\n",
      "10/10 [==============================] - 0s 114us/sample - loss: 0.0442\n",
      "Epoch 52/100\n",
      "10/10 [==============================] - 0s 141us/sample - loss: 0.0438\n",
      "Epoch 53/100\n",
      "10/10 [==============================] - 0s 110us/sample - loss: 0.0435\n",
      "Epoch 54/100\n",
      "10/10 [==============================] - 0s 112us/sample - loss: 0.0431\n",
      "Epoch 55/100\n",
      "10/10 [==============================] - 0s 109us/sample - loss: 0.0428\n",
      "Epoch 56/100\n",
      "10/10 [==============================] - 0s 8ms/sample - loss: 0.0424\n",
      "Epoch 57/100\n",
      "10/10 [==============================] - 0s 146us/sample - loss: 0.0420\n",
      "Epoch 58/100\n",
      "10/10 [==============================] - 0s 118us/sample - loss: 0.0417\n",
      "Epoch 59/100\n",
      "10/10 [==============================] - 0s 138us/sample - loss: 0.0413\n",
      "Epoch 60/100\n",
      "10/10 [==============================] - 0s 114us/sample - loss: 0.0410\n",
      "Epoch 61/100\n",
      "10/10 [==============================] - 0s 124us/sample - loss: 0.0406\n",
      "Epoch 62/100\n",
      "10/10 [==============================] - 0s 114us/sample - loss: 0.0403\n",
      "Epoch 63/100\n",
      "10/10 [==============================] - 0s 112us/sample - loss: 0.0400\n",
      "Epoch 64/100\n",
      "10/10 [==============================] - 0s 100us/sample - loss: 0.0396\n",
      "Epoch 65/100\n",
      "10/10 [==============================] - 0s 117us/sample - loss: 0.0393\n",
      "Epoch 66/100\n",
      "10/10 [==============================] - 0s 123us/sample - loss: 0.0390\n",
      "Epoch 67/100\n",
      "10/10 [==============================] - 0s 8ms/sample - loss: 0.0386\n",
      "Epoch 68/100\n",
      "10/10 [==============================] - 0s 136us/sample - loss: 0.0383\n",
      "Epoch 69/100\n",
      "10/10 [==============================] - 0s 125us/sample - loss: 0.0380\n",
      "Epoch 70/100\n",
      "10/10 [==============================] - 0s 110us/sample - loss: 0.0377\n",
      "Epoch 71/100\n",
      "10/10 [==============================] - 0s 111us/sample - loss: 0.0374\n",
      "Epoch 72/100\n",
      "10/10 [==============================] - 0s 117us/sample - loss: 0.0371\n",
      "Epoch 73/100\n",
      "10/10 [==============================] - 0s 97us/sample - loss: 0.0367\n",
      "Epoch 74/100\n",
      "10/10 [==============================] - 0s 99us/sample - loss: 0.0364\n",
      "Epoch 75/100\n",
      "10/10 [==============================] - 0s 112us/sample - loss: 0.0361\n",
      "Epoch 76/100\n",
      "10/10 [==============================] - 0s 130us/sample - loss: 0.0358\n",
      "Epoch 77/100\n",
      "10/10 [==============================] - 0s 110us/sample - loss: 0.0355\n",
      "Epoch 78/100\n",
      "10/10 [==============================] - 0s 128us/sample - loss: 0.0352\n",
      "Epoch 79/100\n",
      "10/10 [==============================] - 0s 8ms/sample - loss: 0.0349\n",
      "Epoch 80/100\n",
      "10/10 [==============================] - 0s 133us/sample - loss: 0.0346\n",
      "Epoch 81/100\n",
      "10/10 [==============================] - 0s 124us/sample - loss: 0.0343\n",
      "Epoch 82/100\n",
      "10/10 [==============================] - 0s 114us/sample - loss: 0.0341\n",
      "Epoch 83/100\n",
      "10/10 [==============================] - 0s 137us/sample - loss: 0.0338\n",
      "Epoch 84/100\n",
      "10/10 [==============================] - 0s 99us/sample - loss: 0.0335\n",
      "Epoch 85/100\n",
      "10/10 [==============================] - 0s 108us/sample - loss: 0.0332\n",
      "Epoch 86/100\n",
      "10/10 [==============================] - 0s 117us/sample - loss: 0.0329\n",
      "Epoch 87/100\n",
      "10/10 [==============================] - 0s 129us/sample - loss: 0.0327\n",
      "Epoch 88/100\n",
      "10/10 [==============================] - 0s 118us/sample - loss: 0.0324\n",
      "Epoch 89/100\n",
      "10/10 [==============================] - 0s 96us/sample - loss: 0.0321\n",
      "Epoch 90/100\n",
      "10/10 [==============================] - 0s 8ms/sample - loss: 0.0318\n",
      "Epoch 91/100\n",
      "10/10 [==============================] - 0s 134us/sample - loss: 0.0316\n",
      "Epoch 92/100\n",
      "10/10 [==============================] - 0s 130us/sample - loss: 0.0313\n",
      "Epoch 93/100\n",
      "10/10 [==============================] - 0s 139us/sample - loss: 0.0310\n",
      "Epoch 94/100\n",
      "10/10 [==============================] - 0s 108us/sample - loss: 0.0308\n",
      "Epoch 95/100\n",
      "10/10 [==============================] - 0s 141us/sample - loss: 0.0305\n",
      "Epoch 96/100\n",
      "10/10 [==============================] - 0s 150us/sample - loss: 0.0303\n",
      "Epoch 97/100\n",
      "10/10 [==============================] - 0s 122us/sample - loss: 0.0300\n",
      "Epoch 98/100\n",
      "10/10 [==============================] - 0s 107us/sample - loss: 0.0298\n",
      "Epoch 99/100\n",
      "10/10 [==============================] - 0s 123us/sample - loss: 0.0295\n",
      "Epoch 100/100\n",
      "10/10 [==============================] - 0s 136us/sample - loss: 0.0293\n",
      "[4.0020185]\n"
     ]
    }
   ],
   "source": [
    "prediction = house_model([7.0])\n",
    "print(prediction)"
   ]
  },
  {
   "cell_type": "code",
   "execution_count": 4,
   "metadata": {},
   "outputs": [],
   "source": [
    "# Now click the 'Submit Assignment' button above.\n",
    "# Once that is complete, please run the following two cells to save your work and close the notebook"
   ]
  },
  {
   "cell_type": "code",
   "execution_count": 15,
   "metadata": {},
   "outputs": [
    {
     "data": {
      "application/javascript": [
       "<!-- Save the notebook -->\n",
       "IPython.notebook.save_checkpoint();\n"
      ],
      "text/plain": [
       "<IPython.core.display.Javascript object>"
      ]
     },
     "metadata": {},
     "output_type": "display_data"
    }
   ],
   "source": [
    "%%javascript\n",
    "<!-- Save the notebook -->\n",
    "IPython.notebook.save_checkpoint();"
   ]
  },
  {
   "cell_type": "code",
   "execution_count": null,
   "metadata": {},
   "outputs": [
    {
     "data": {
      "application/javascript": [
       "IPython.notebook.session.delete();\n",
       "window.onbeforeunload = null\n",
       "setTimeout(function() { window.close(); }, 1000);\n"
      ],
      "text/plain": [
       "<IPython.core.display.Javascript object>"
      ]
     },
     "metadata": {},
     "output_type": "display_data"
    }
   ],
   "source": [
    "%%javascript\n",
    "IPython.notebook.session.delete();\n",
    "window.onbeforeunload = null\n",
    "setTimeout(function() { window.close(); }, 1000);"
   ]
  },
  {
   "cell_type": "code",
   "execution_count": null,
   "metadata": {},
   "outputs": [],
   "source": []
  }
 ],
 "metadata": {
  "coursera": {
   "course_slug": "introduction-tensorflow",
   "graded_item_id": "jRjw8",
   "launcher_item_id": "YoQKl"
  },
  "kernelspec": {
   "display_name": "Python 3",
   "language": "python",
   "name": "python3"
  },
  "language_info": {
   "codemirror_mode": {
    "name": "ipython",
    "version": 3
   },
   "file_extension": ".py",
   "mimetype": "text/x-python",
   "name": "python",
   "nbconvert_exporter": "python",
   "pygments_lexer": "ipython3",
   "version": "3.6.8"
  }
 },
 "nbformat": 4,
 "nbformat_minor": 2
}
